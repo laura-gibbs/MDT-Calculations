{
 "cells": [
  {
   "cell_type": "code",
   "execution_count": 1,
   "metadata": {},
   "outputs": [],
   "source": [
    "import math\n",
    "import numpy as np\n",
    "import os\n",
    "import array\n",
    "import matplotlib.pyplot as plt"
   ]
  },
  {
   "cell_type": "markdown",
   "metadata": {},
   "source": [
    "### Define global paramters:\n",
    "\n",
    "$r$ = radius of the Earth in $(m)$\n",
    "<br>$\\Omega$ = rotation rate of the Earth $(rad$ / $s)$\n",
    "<br>$g$ = acceleration due to gravity $(m$ / $s^2)$"
   ]
  },
  {
   "cell_type": "code",
   "execution_count": 2,
   "metadata": {},
   "outputs": [],
   "source": [
    "r = 6371229.0\n",
    "omega = 7.29e-5\n",
    "g = 9.80665"
   ]
  },
  {
   "cell_type": "markdown",
   "metadata": {},
   "source": []
  },
  {
   "cell_type": "code",
   "execution_count": null,
   "metadata": {},
   "outputs": [],
   "source": [
    "def reshape_file(path, file_name, shape):\n",
    "    fname = (os.path.join(path, file_name))\n",
    "    f = open(fname, 'rb')\n",
    "    floats = np.frombuffer(f.read(), dtype=np.double)\n",
    "    arr = np.reshape(floats, shape)\n",
    "    return arr"
   ]
  },
  {
   "cell_type": "markdown",
   "metadata": {},
   "source": []
  },
  {
   "cell_type": "code",
   "execution_count": 13,
   "metadata": {},
   "outputs": [],
   "source": [
    "def read_dat(path, filename, shape, nans=True, transpose=False):\n",
    "    filepath = (os.path.join(path, filename))\n",
    "    fid = open(filepath, mode='rb')\n",
    "    floats = np.asfortranarray(np.frombuffer(fid.read(), dtype=np.float32))\n",
    "    \n",
    "    # Ignores the header and footer\n",
    "    floats = floats[1:len(floats)-1]\n",
    "    floats = np.array(floats)\n",
    "    floats = np.reshape(floats, shape, order='F')\n",
    "    if nans:\n",
    "        floats[floats <= -1.7e7] = np.nan\n",
    "    if transpose:\n",
    "        return floats.T\n",
    "    return floats\n"
   ]
  },
  {
   "cell_type": "markdown",
   "metadata": {},
   "source": []
  },
  {
   "cell_type": "code",
   "execution_count": 5,
   "metadata": {},
   "outputs": [],
   "source": [
    "def write_dat(path, filename, arr):\n",
    "    floats = arr.flatten(order='F')\n",
    "\n",
    "    # Calculate header (number of total bytes in MDT)\n",
    "    header = np.array(arr.size * 4)\n",
    "\n",
    "    # Convert everything to bytes and write\n",
    "    floats = floats.tobytes()\n",
    "    header = header.tobytes()\n",
    "    footer = header\n",
    "    fid = open(os.path.join(path, filename), mode='wb')\n",
    "    fid.write(header)\n",
    "    fid.write(floats)\n",
    "    fid.write(footer)\n",
    "    fid.close()"
   ]
  },
  {
   "cell_type": "markdown",
   "metadata": {},
   "source": []
  },
  {
   "cell_type": "code",
   "execution_count": 6,
   "metadata": {},
   "outputs": [],
   "source": [
    "def mdt_cs(II, JJ, lat, mdt, cs):\n",
    "    # Define parameters\n",
    "    lats_r = np.deg2rad(lat[1] - lat[0])\n",
    "    lons_r = lats_r / 2\n",
    "\n",
    "    # Calculate zonal width of a grid cell (m) (depends on Latitude)\n",
    "    dx = np.array([2 * r * lons_r * math.cos(np.deg2rad(lat[j])) for j in range(JJ)])\n",
    "\n",
    "    # Calculate meridional width of grid cell (m) (does not depend on lat)\n",
    "    dy = r * lats_r\n",
    "\n",
    "    # Calculate coriolis parameter f\n",
    "    f0 = np.array([2.0 * omega * math.sin(np.deg2rad(lat[j])) for j in range(JJ)])\n",
    "\n",
    "    u = np.zeros((II, JJ))\n",
    "    v = np.zeros((II, JJ))\n",
    "    \n",
    "        # Compute currents\n",
    "    print(f'mdt.shape={mdt.shape}')\n",
    "    for j in range(1, JJ-1):\n",
    "        for i in range(II):\n",
    "            if not np.isnan(mdt[i, j]) and not np.isnan(mdt[i, j-1]):\n",
    "                u[i, j] = -(g / f0[j]) * (mdt[i, j] - mdt[i, j-1]) / (dy)\n",
    "\n",
    "            if not np.isnan(mdt[i, j]) and not np.isnan(mdt[i-1, j]):\n",
    "                v[i, j] = (g / f0[j]) * (mdt[i, j] - mdt[i-1, j]) / (dx[j])\n",
    "\n",
    "            cs[i, j] = math.sqrt(u[i, j] ** 2 + v[i, j] ** 2)\n",
    "\n",
    "    return cs, u, v"
   ]
  },
  {
   "cell_type": "markdown",
   "metadata": {},
   "source": []
  },
  {
   "cell_type": "code",
   "execution_count": 14,
   "metadata": {},
   "outputs": [],
   "source": [
    "def main():\n",
    "    i1 = 0\n",
    "    i2 = 1440\n",
    "    j1 = 0\n",
    "    j2 = 720\n",
    "    II = i2 - i1\n",
    "    JJ = j2 - j1\n",
    "    IIin = 1440\n",
    "    JJin = 720\n",
    "    upper_bd = 1.5\n",
    "    lower_bd = -1.5\n",
    "\n",
    "    path0 = '.\\\\fortran\\\\data\\\\src\\\\'\n",
    "    path1 = '.\\\\fortran\\\\data\\\\res\\\\'\n",
    "    path2 = '.\\\\fortran\\\\data\\\\test\\\\'\n",
    "\n",
    "    # Define global lon and lat (lat shifted to midpts set between -90 and 90)\n",
    "    glon = np.array([0.25 * (i - 0.5) for i in range(IIin)])\n",
    "    glat = np.array([0.25 * (j - 0.5) - 90.0 for j in range(JJin)])\n",
    "    lats = np.deg2rad(0.25)\n",
    "    lat0 = np.deg2rad(-89.875)\n",
    "    \n",
    "    gcs = np.zeros((IIin, JJin))\n",
    "\n",
    "    gmdt = read_dat(path1, 'shmdtfile.dat', (IIin, JJin), nans=True)\n",
    "    mask = read_dat(path0, 'mask_glbl_qrtd.dat', (IIin, JJin), nans=True)\n",
    "    gcs, u, v = mdt_cs(IIin, JJin, glat, gmdt, gcs)\n",
    "\n",
    "    gmdt = gmdt + mask\n",
    "    gcs = gcs + mask\n",
    "\n",
    "    mdt = gmdt[i1:i2, j1:j2]\n",
    "    cs = gcs[i1:i2, j1:j2]\n",
    "\n",
    "    glat_rad = np.deg2rad(glat)\n",
    "\n",
    "    ds = np.array([(r ** 2 * lats) * (math.sin(glat_rad[j]) -\n",
    "                  math.sin(glat_rad[j-1])) for j in range(JJ)])\n",
    "\n",
    "    # ds = np.array([0.5 * (r * lats) ** 2 * (math.cos(glat_rad[j]) +\n",
    "    #              math.cos(glat_rad[j-1])) for j in range(JJ)])\n",
    "\n",
    "    sum_mdt_ds = 0.\n",
    "    ocean_area = 0.\n",
    "    for i in range(II):\n",
    "        for j in range(JJ):\n",
    "            if not np.isnan(mdt[i, j]):\n",
    "                sum_mdt_ds += mdt[i, j] * ds[j]\n",
    "                ocean_area += ds[j]\n",
    "\n",
    "    mn = sum_mdt_ds / ocean_area\n",
    "    mdt = mdt - mn\n",
    "    print(ocean_area, sum_mdt_ds, mn)\n",
    "\n",
    "    fig, (ax1, ax2) = plt.subplots(1, 2)\n",
    "\n",
    "    mdt = mdt.T\n",
    "    mdt[np.isnan(mdt)] = lower_bd\n",
    "    mdt[mdt < lower_bd] = lower_bd\n",
    "    mdt[mdt > upper_bd] = upper_bd\n",
    "    \n",
    "    cs = cs.T\n",
    "    cs[np.isnan(cs)] = lower_bd\n",
    "    cs[cs < lower_bd] = lower_bd\n",
    "    cs[cs > upper_bd] = upper_bd\n",
    "    \n",
    "    ax1.imshow(mdt)\n",
    "    ax2.imshow(cs)\n",
    "    plt.show()"
   ]
  },
  {
   "cell_type": "markdown",
   "metadata": {},
   "source": []
  },
  {
   "cell_type": "code",
   "execution_count": 12,
   "metadata": {},
   "outputs": [
    {
     "name": "stdout",
     "output_type": "stream",
     "text": [
      "mdt.shape=(1440, 720)\n",
      "360801822092934.3 219319544815615.9 0.6078670654804071\n"
     ]
    },
    {
     "data": {
      "image/png": "[encoded data removed]",
      "text/plain": [
       "<Figure size 432x288 with 3 Axes>"
      ]
     },
     "metadata": {
      "needs_background": "light"
     },
     "output_type": "display_data"
    }
   ],
   "source": [
    "if __name__ == '__main__':\n",
    "    main()"
   ]
  },
  {
   "cell_type": "code",
   "execution_count": null,
   "metadata": {},
   "outputs": [],
   "source": []
  }
 ],
 "metadata": {
  "kernelspec": {
   "display_name": "Python 3",
   "language": "python",
   "name": "python3"
  },
  "language_info": {
   "codemirror_mode": {
    "name": "ipython",
    "version": 3
   },
   "file_extension": ".py",
   "mimetype": "text/x-python",
   "name": "python",
   "nbconvert_exporter": "python",
   "pygments_lexer": "ipython3",
   "version": "3.6.4"
  }
 },
 "nbformat": 4,
 "nbformat_minor": 4
}
